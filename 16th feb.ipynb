{
 "cells": [
  {
   "cell_type": "markdown",
   "id": "63b7fdd9-0b29-47e6-a7b2-382aea99c808",
   "metadata": {},
   "source": [
    "# Q1. What is a database? Differentiate between SQL and NoSQL databases."
   ]
  },
  {
   "cell_type": "markdown",
   "id": "9eaffabb-0f61-452e-ae6f-e31df39c4b73",
   "metadata": {},
   "source": [
    "# A database is an organized collection of data that is stored and managed using specialized software called a database management system (DBMS). A DBMS allows users to interact with the database, add, modify, delete, and query data.\n",
    "\n",
    "# A database can be of various types, such as relational, NoSQL, object-oriented, graph, and more. However, the most common type of database is the relational database, which organizes data into tables consisting of rows and columns.\n",
    "\n",
    "# Differentiate between SQL and NoSQL databases.\n",
    "# Data Model:\n",
    "## SQL databases use a relational data model, where data is organized into tables with rows and columns. Each table has a unique key, which is used to link the tables. On the other hand, NoSQL databases use various data models such as document-oriented, key-value, graph, and column-family, which allow for more flexible data structures.\n",
    "\n",
    "# Scalability:\n",
    "## SQL databases are vertically scalable, which means that they can handle more data by increasing the processing power or resources of the hardware on which they run. NoSQL databases, on the other hand, are horizontally scalable, which means that they can handle more data by adding more servers to the database cluster.\n",
    "\n",
    "# Query Language:\n",
    "## SQL databases use a standardized query language called SQL, which provides a set of commands for interacting with the data in the database. NoSQL databases use different query languages based on the data model they use.\n",
    "\n",
    "# ACID Compliance:\n",
    "## SQL databases are usually ACID (Atomicity, Consistency, Isolation, Durability) compliant, which ensures data integrity and consistency in case of system failures. NoSQL databases, however, often prioritize availability and partition tolerance over consistency, which makes them suitable for use in distributed systems.\n",
    "\n",
    "# Schema:\n",
    "## SQL databases have a rigid schema that must be defined before data can be added to the tables. Any changes to the schema require a modification of the existing data. NoSQL databases, on the other hand, have a flexible schema that allows for changes to the data model without modifying the existing data.\n",
    "\n",
    "# In summary, SQL databases are well suited for structured data that requires a rigid schema, complex transactions, and high data consistency, while NoSQL databases are suitable for unstructured data, distributed systems, and high scalability."
   ]
  },
  {
   "cell_type": "markdown",
   "id": "0d2d7a9b-2460-4d0e-9e19-5ce311b7f006",
   "metadata": {},
   "source": [
    "# Q2. What is DDL? Explain why CREATE, DROP, ALTER, and TRUNCATE are used with an example."
   ]
  },
  {
   "cell_type": "markdown",
   "id": "5ead0c54-7303-4756-b00b-3648cab597ff",
   "metadata": {},
   "source": [
    "# DDL stands for Data Definition Language, which is a subset of SQL (Structured Query Language) used to create and modify the structure of database objects such as tables, indexes, and constraints. DDL commands are used to define the data schema and to control access to the data. "
   ]
  },
  {
   "cell_type": "markdown",
   "id": "e8b9ff78-4257-40cf-8ca7-2351c1a40afb",
   "metadata": {},
   "source": [
    "# CREATE: The CREATE command is used to create new database objects, such as tables, indexes, and views. "
   ]
  },
  {
   "cell_type": "markdown",
   "id": "d1a90108-096a-4eb9-97de-b55de9f9ec6c",
   "metadata": {},
   "source": [
    "# DROP: The DROP command is used to delete existing database objects."
   ]
  },
  {
   "cell_type": "markdown",
   "id": "353e2d66-ca76-41fc-9d83-cb9c6fe03043",
   "metadata": {},
   "source": [
    "# ALTER: The ALTER command is used to modify the structure of existing database objects. "
   ]
  },
  {
   "cell_type": "markdown",
   "id": "43a9e232-a92f-4ebc-b2db-2ef797ce2a12",
   "metadata": {},
   "source": [
    "# TRUNCATE: The TRUNCATE command is used to delete all data from a table, but it leaves the table structure intact. This is different from the DROP command, which deletes both the data and the table structure. "
   ]
  },
  {
   "cell_type": "markdown",
   "id": "fa319a88-fbd7-4d31-a8f6-99a05d8e2d57",
   "metadata": {},
   "source": [
    "# Q3. What is DML? Explain INSERT, UPDATE, and DELETE with an example."
   ]
  },
  {
   "cell_type": "markdown",
   "id": "c555126a-5503-43b1-be66-d16f4bc15128",
   "metadata": {},
   "source": [
    "# DML stands for Data Manipulation Language, which is a subset of SQL (Structured Query Language) used to insert, update, and delete data in a database. Here are some common DML commands and their uses:\n",
    "\n",
    "# INSERT: The INSERT command is used to insert new data into a table. \n",
    "# UPDATE: The UPDATE command is used to modify existing data in a table.\n",
    "# DELETE: The DELETE command is used to delete data from a table."
   ]
  },
  {
   "cell_type": "markdown",
   "id": "eb6566d4-a57d-45c4-9561-1796b4df4336",
   "metadata": {},
   "source": [
    "# Q4. What is DQL? Explain SELECT with an example."
   ]
  },
  {
   "cell_type": "markdown",
   "id": "3464b9d5-f6d2-428d-8749-02b6a9ecd0fd",
   "metadata": {},
   "source": [
    "# DQL stands for Data Query Language, which is a subset of SQL (Structured Query Language) used to retrieve data from a database. DQL commands allow you to query the data stored in the database and return the results that match specific criteria."
   ]
  },
  {
   "cell_type": "markdown",
   "id": "ad5ce36a-781b-48db-b0d4-0a6eb598d5e3",
   "metadata": {},
   "source": [
    "# The SELECT command retrieves data from a table and allows you to specify which columns you want to retrieve. The columns are separated by commas and listed after the SELECT keyword. The FROM keyword is used to specify the name of the table from which you want to retrieve data."
   ]
  },
  {
   "cell_type": "markdown",
   "id": "2dba4ad4-ab3e-4282-980a-c9a41747cd3b",
   "metadata": {},
   "source": [
    "# Q5. Explain Primary Key and Foreign Key."
   ]
  },
  {
   "cell_type": "markdown",
   "id": "bcff1a8a-6a6d-4893-9f68-80b6107656f9",
   "metadata": {},
   "source": [
    "# A primary key is a column or set of columns in a table that uniquely identifies each row in that table. The primary key is used to ensure the data in the table is organized in a logical way and to prevent duplicate rows from being inserted into the table. A primary key can consist of one or more columns, and it must have a unique value for each row in the table. Common examples of primary keys include social security numbers, customer IDs, and product codes."
   ]
  },
  {
   "cell_type": "markdown",
   "id": "9bda4c13-11f4-4e40-bd1e-279cc3363674",
   "metadata": {},
   "source": [
    "# A foreign key, on the other hand, is a column or set of columns in one table that refers to the primary key of another table. A foreign key establishes a link between two tables, allowing data to be shared between them. The foreign key in one table is linked to the primary key in another table, creating a relationship between the two tables. The foreign key ensures that data in the related tables is consistent and that any changes made to one table are reflected in the other table as well."
   ]
  },
  {
   "cell_type": "markdown",
   "id": "e3e7cccb-8ca9-40c3-8c66-d4707705767a",
   "metadata": {},
   "source": [
    "# Q6. Write a python code to connect MySQL to python. Explain the cursor() and execute() method."
   ]
  },
  {
   "cell_type": "code",
   "execution_count": null,
   "id": "316245af-9df5-4386-9046-a806e2a2b915",
   "metadata": {},
   "outputs": [],
   "source": [
    "import mysql.connector\n",
    "\n",
    "# establish a connection to the MySQL database\n",
    "mydb = mysql.connector.connect(\n",
    "  host=\"localhost\",\n",
    "  user=\"yourusername\",\n",
    "  password=\"yourpassword\",\n",
    "  database=\"yourdatabase\"\n",
    ")\n",
    "\n",
    "# create a cursor object to execute SQL queries\n",
    "mycursor = mydb.cursor()\n",
    "\n",
    "# execute a SQL query\n",
    "mycursor.execute(\"SELECT * FROM yourtable\")\n",
    "\n",
    "# fetch the result of the query\n",
    "result = mycursor.fetchall()\n",
    "\n",
    "# print the result\n",
    "for row in result:\n",
    "  print(row)\n"
   ]
  },
  {
   "cell_type": "code",
   "execution_count": null,
   "id": "fb9e5a11-2f56-4cdc-891f-d72e402790ca",
   "metadata": {},
   "outputs": [],
   "source": [
    "# Q7. Give the order of execution of SQL clauses in an SQL query."
   ]
  }
 ],
 "metadata": {
  "kernelspec": {
   "display_name": "Python 3 (ipykernel)",
   "language": "python",
   "name": "python3"
  },
  "language_info": {
   "codemirror_mode": {
    "name": "ipython",
    "version": 3
   },
   "file_extension": ".py",
   "mimetype": "text/x-python",
   "name": "python",
   "nbconvert_exporter": "python",
   "pygments_lexer": "ipython3",
   "version": "3.10.8"
  }
 },
 "nbformat": 4,
 "nbformat_minor": 5
}
